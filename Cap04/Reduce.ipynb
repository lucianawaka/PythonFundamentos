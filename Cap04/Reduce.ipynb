{
 "cells": [
  {
   "cell_type": "markdown",
   "id": "3408dc6e",
   "metadata": {},
   "source": [
    "### Reduce é uma função que recebe 2 argumentos:\n",
    "- Uma função \n",
    "- Uma sequência\n",
    "### Aplica a cada elemento da serie até que reste 1 elemento"
   ]
  },
  {
   "cell_type": "code",
   "execution_count": 1,
   "id": "a7f4b1ad",
   "metadata": {},
   "outputs": [],
   "source": [
    "from functools import reduce"
   ]
  },
  {
   "cell_type": "code",
   "execution_count": 13,
   "id": "dc0b9f84",
   "metadata": {},
   "outputs": [],
   "source": [
    "salarios = [2000, 6000, 4000]"
   ]
  },
  {
   "cell_type": "code",
   "execution_count": 7,
   "id": "0b449b36",
   "metadata": {},
   "outputs": [],
   "source": [
    "def soma(a, b):\n",
    "    return a+b"
   ]
  },
  {
   "cell_type": "code",
   "execution_count": 10,
   "id": "59f16f07",
   "metadata": {},
   "outputs": [
    {
     "data": {
      "text/plain": [
       "12000"
      ]
     },
     "execution_count": 10,
     "metadata": {},
     "output_type": "execute_result"
    }
   ],
   "source": [
    "reduce(soma, salarios)"
   ]
  },
  {
   "cell_type": "code",
   "execution_count": 14,
   "id": "b81d1a28",
   "metadata": {},
   "outputs": [],
   "source": [
    "idade = [18, 25, 36]"
   ]
  },
  {
   "cell_type": "code",
   "execution_count": 17,
   "id": "889d292f",
   "metadata": {},
   "outputs": [
    {
     "data": {
      "text/plain": [
       "79"
      ]
     },
     "execution_count": 17,
     "metadata": {},
     "output_type": "execute_result"
    }
   ],
   "source": [
    "reduce(lambda x,y: x+y, idade)"
   ]
  },
  {
   "cell_type": "code",
   "execution_count": 18,
   "id": "1792197e",
   "metadata": {},
   "outputs": [],
   "source": [
    "# Fazer uma busca em um conjunto de elementos\n",
    "max_find = lambda a, b: a if (a>b) else b"
   ]
  },
  {
   "cell_type": "code",
   "execution_count": 19,
   "id": "392f8f94",
   "metadata": {},
   "outputs": [
    {
     "data": {
      "text/plain": [
       "4"
      ]
     },
     "execution_count": 19,
     "metadata": {},
     "output_type": "execute_result"
    }
   ],
   "source": [
    "max_find(3,4)"
   ]
  },
  {
   "cell_type": "code",
   "execution_count": 20,
   "id": "9de1d1e7",
   "metadata": {},
   "outputs": [
    {
     "data": {
      "text/plain": [
       "6000"
      ]
     },
     "execution_count": 20,
     "metadata": {},
     "output_type": "execute_result"
    }
   ],
   "source": [
    "reduce(max_find, salarios)"
   ]
  },
  {
   "cell_type": "code",
   "execution_count": null,
   "id": "e72c7080",
   "metadata": {},
   "outputs": [],
   "source": []
  }
 ],
 "metadata": {
  "kernelspec": {
   "display_name": "Python 3 (ipykernel)",
   "language": "python",
   "name": "python3"
  },
  "language_info": {
   "codemirror_mode": {
    "name": "ipython",
    "version": 3
   },
   "file_extension": ".py",
   "mimetype": "text/x-python",
   "name": "python",
   "nbconvert_exporter": "python",
   "pygments_lexer": "ipython3",
   "version": "3.9.12"
  }
 },
 "nbformat": 4,
 "nbformat_minor": 5
}
