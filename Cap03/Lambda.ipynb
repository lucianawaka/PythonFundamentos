{
 "cells": [
  {
   "cell_type": "markdown",
   "id": "5795142f",
   "metadata": {},
   "source": [
    "### Expressões Lambda\n",
    "A esquerda são os parâmetros ---- a direita o return da função anônima"
   ]
  },
  {
   "cell_type": "code",
   "execution_count": 1,
   "id": "1ae41865",
   "metadata": {},
   "outputs": [],
   "source": [
    "# Definindo uma função - 3 linhas de código\n",
    "def potencia(num):\n",
    "    result = num ** 2\n",
    "    return result"
   ]
  },
  {
   "cell_type": "code",
   "execution_count": 2,
   "id": "e6711e91",
   "metadata": {},
   "outputs": [
    {
     "data": {
      "text/plain": [
       "25"
      ]
     },
     "execution_count": 2,
     "metadata": {},
     "output_type": "execute_result"
    }
   ],
   "source": [
    "potencia(5)"
   ]
  },
  {
   "cell_type": "code",
   "execution_count": 3,
   "id": "a31f6cad",
   "metadata": {},
   "outputs": [],
   "source": [
    "# Definindo uma função - 2 linhas de código\n",
    "def potencia(num):\n",
    "    return num ** 2"
   ]
  },
  {
   "cell_type": "code",
   "execution_count": 4,
   "id": "944106c2",
   "metadata": {},
   "outputs": [
    {
     "data": {
      "text/plain": [
       "9"
      ]
     },
     "execution_count": 4,
     "metadata": {},
     "output_type": "execute_result"
    }
   ],
   "source": [
    "potencia(3)"
   ]
  },
  {
   "cell_type": "code",
   "execution_count": 6,
   "id": "32114ee4",
   "metadata": {},
   "outputs": [],
   "source": [
    "pot = lambda num: num ** 2"
   ]
  },
  {
   "cell_type": "code",
   "execution_count": 7,
   "id": "0a9f6bfd",
   "metadata": {},
   "outputs": [
    {
     "data": {
      "text/plain": [
       "9"
      ]
     },
     "execution_count": 7,
     "metadata": {},
     "output_type": "execute_result"
    }
   ],
   "source": [
    "pot(3)"
   ]
  },
  {
   "cell_type": "code",
   "execution_count": 8,
   "id": "47e28f2f",
   "metadata": {},
   "outputs": [],
   "source": [
    "par = lambda x: x % 2 == 0"
   ]
  },
  {
   "cell_type": "code",
   "execution_count": 9,
   "id": "8596e7ab",
   "metadata": {},
   "outputs": [
    {
     "data": {
      "text/plain": [
       "True"
      ]
     },
     "execution_count": 9,
     "metadata": {},
     "output_type": "execute_result"
    }
   ],
   "source": [
    "par(2)"
   ]
  },
  {
   "cell_type": "code",
   "execution_count": 10,
   "id": "cd990887",
   "metadata": {},
   "outputs": [
    {
     "data": {
      "text/plain": [
       "False"
      ]
     },
     "execution_count": 10,
     "metadata": {},
     "output_type": "execute_result"
    }
   ],
   "source": [
    "par(3)"
   ]
  },
  {
   "cell_type": "code",
   "execution_count": 11,
   "id": "b1dc1416",
   "metadata": {},
   "outputs": [],
   "source": [
    "first = lambda f:f[0]"
   ]
  },
  {
   "cell_type": "code",
   "execution_count": 12,
   "id": "81b8cd72",
   "metadata": {},
   "outputs": [
    {
     "data": {
      "text/plain": [
       "'L'"
      ]
     },
     "execution_count": 12,
     "metadata": {},
     "output_type": "execute_result"
    }
   ],
   "source": [
    "first('Luciana')"
   ]
  },
  {
   "cell_type": "code",
   "execution_count": 13,
   "id": "4de969a4",
   "metadata": {},
   "outputs": [],
   "source": [
    "reverso = lambda s:s[::-1]"
   ]
  },
  {
   "cell_type": "code",
   "execution_count": 15,
   "id": "c42afc90",
   "metadata": {},
   "outputs": [
    {
     "data": {
      "text/plain": [
       "'otinoB'"
      ]
     },
     "execution_count": 15,
     "metadata": {},
     "output_type": "execute_result"
    }
   ],
   "source": [
    "reverso('Bonito')"
   ]
  },
  {
   "cell_type": "code",
   "execution_count": 16,
   "id": "0aef8392",
   "metadata": {},
   "outputs": [],
   "source": [
    "addNum = lambda x,y: x+y"
   ]
  },
  {
   "cell_type": "code",
   "execution_count": 17,
   "id": "be734c4b",
   "metadata": {},
   "outputs": [
    {
     "data": {
      "text/plain": [
       "9"
      ]
     },
     "execution_count": 17,
     "metadata": {},
     "output_type": "execute_result"
    }
   ],
   "source": [
    "addNum(4,5)"
   ]
  },
  {
   "cell_type": "code",
   "execution_count": null,
   "id": "fefb5d00",
   "metadata": {},
   "outputs": [],
   "source": []
  }
 ],
 "metadata": {
  "kernelspec": {
   "display_name": "Python 3 (ipykernel)",
   "language": "python",
   "name": "python3"
  },
  "language_info": {
   "codemirror_mode": {
    "name": "ipython",
    "version": 3
   },
   "file_extension": ".py",
   "mimetype": "text/x-python",
   "name": "python",
   "nbconvert_exporter": "python",
   "pygments_lexer": "ipython3",
   "version": "3.9.12"
  }
 },
 "nbformat": 4,
 "nbformat_minor": 5
}
